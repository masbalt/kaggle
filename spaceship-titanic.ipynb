{
 "cells": [
  {
   "cell_type": "code",
   "execution_count": 1,
   "id": "cc622dc9",
   "metadata": {
    "_cell_guid": "b1076dfc-b9ad-4769-8c92-a6c4dae69d19",
    "_uuid": "8f2839f25d086af736a60e9eeb907d3b93b6e0e5",
    "execution": {
     "iopub.execute_input": "2024-09-05T20:21:58.840770Z",
     "iopub.status.busy": "2024-09-05T20:21:58.840298Z",
     "iopub.status.idle": "2024-09-05T20:21:59.823334Z",
     "shell.execute_reply": "2024-09-05T20:21:59.821429Z"
    },
    "papermill": {
     "duration": 0.997135,
     "end_time": "2024-09-05T20:21:59.827972",
     "exception": false,
     "start_time": "2024-09-05T20:21:58.830837",
     "status": "completed"
    },
    "tags": []
   },
   "outputs": [
    {
     "name": "stdout",
     "output_type": "stream",
     "text": [
      "/kaggle/input/spaceship-titanic/sample_submission.csv\n",
      "/kaggle/input/spaceship-titanic/train.csv\n",
      "/kaggle/input/spaceship-titanic/test.csv\n"
     ]
    }
   ],
   "source": [
    "# This Python 3 environment comes with many helpful analytics libraries installed\n",
    "# It is defined by the kaggle/python Docker image: https://github.com/kaggle/docker-python\n",
    "# For example, here's several helpful packages to load\n",
    "\n",
    "import numpy as np # linear algebra\n",
    "import pandas as pd # data processing, CSV file I/O (e.g. pd.read_csv)\n",
    "\n",
    "# Input data files are available in the read-only \"../input/\" directory\n",
    "# For example, running this (by clicking run or pressing Shift+Enter) will list all files under the input directory\n",
    "\n",
    "import os\n",
    "for dirname, _, filenames in os.walk('/kaggle/input'):\n",
    "    for filename in filenames:\n",
    "        print(os.path.join(dirname, filename))\n",
    "\n",
    "# You can write up to 20GB to the current directory (/kaggle/working/) that gets preserved as output when you create a version using \"Save & Run All\" \n",
    "# You can also write temporary files to /kaggle/temp/, but they won't be saved outside of the current session"
   ]
  },
  {
   "cell_type": "code",
   "execution_count": 2,
   "id": "f068d62e",
   "metadata": {
    "execution": {
     "iopub.execute_input": "2024-09-05T20:21:59.844872Z",
     "iopub.status.busy": "2024-09-05T20:21:59.844288Z",
     "iopub.status.idle": "2024-09-05T20:21:59.940549Z",
     "shell.execute_reply": "2024-09-05T20:21:59.939146Z"
    },
    "papermill": {
     "duration": 0.107889,
     "end_time": "2024-09-05T20:21:59.943549",
     "exception": false,
     "start_time": "2024-09-05T20:21:59.835660",
     "status": "completed"
    },
    "tags": []
   },
   "outputs": [],
   "source": [
    "train_df = pd.read_csv('/kaggle/input/spaceship-titanic/train.csv')\n",
    "test_df = pd.read_csv('/kaggle/input/spaceship-titanic/test.csv')"
   ]
  },
  {
   "cell_type": "code",
   "execution_count": 3,
   "id": "64de7512",
   "metadata": {
    "execution": {
     "iopub.execute_input": "2024-09-05T20:21:59.959673Z",
     "iopub.status.busy": "2024-09-05T20:21:59.959216Z",
     "iopub.status.idle": "2024-09-05T20:22:00.006543Z",
     "shell.execute_reply": "2024-09-05T20:22:00.005154Z"
    },
    "papermill": {
     "duration": 0.058561,
     "end_time": "2024-09-05T20:22:00.009347",
     "exception": false,
     "start_time": "2024-09-05T20:21:59.950786",
     "status": "completed"
    },
    "tags": []
   },
   "outputs": [
    {
     "name": "stderr",
     "output_type": "stream",
     "text": [
      "/tmp/ipykernel_17/3143248867.py:5: FutureWarning: Downcasting object dtype arrays on .fillna, .ffill, .bfill is deprecated and will change in a future version. Call result.infer_objects(copy=False) instead. To opt-in to the future behavior, set `pd.set_option('future.no_silent_downcasting', True)`\n",
      "  summary_df.loc[cond, ['VIP']] = summary_df.loc[cond, ['VIP']].fillna(False)\n"
     ]
    }
   ],
   "source": [
    "money_columns = ['RoomService', 'FoodCourt', 'ShoppingMall', 'Spa', 'VRDeck']\n",
    "summary_df = pd.concat([train_df,test_df], ignore_index = True)\n",
    "cond = (summary_df['CryoSleep'] == True)\n",
    "summary_df.loc[cond, money_columns] = summary_df.loc[cond, money_columns].fillna(0)\n",
    "summary_df.loc[cond, ['VIP']] = summary_df.loc[cond, ['VIP']].fillna(False)"
   ]
  },
  {
   "cell_type": "code",
   "execution_count": 4,
   "id": "b6375d15",
   "metadata": {
    "execution": {
     "iopub.execute_input": "2024-09-05T20:22:00.025787Z",
     "iopub.status.busy": "2024-09-05T20:22:00.025312Z",
     "iopub.status.idle": "2024-09-05T20:22:00.091186Z",
     "shell.execute_reply": "2024-09-05T20:22:00.090078Z"
    },
    "papermill": {
     "duration": 0.07753,
     "end_time": "2024-09-05T20:22:00.093996",
     "exception": false,
     "start_time": "2024-09-05T20:22:00.016466",
     "status": "completed"
    },
    "tags": []
   },
   "outputs": [
    {
     "data": {
      "text/html": [
       "<div>\n",
       "<style scoped>\n",
       "    .dataframe tbody tr th:only-of-type {\n",
       "        vertical-align: middle;\n",
       "    }\n",
       "\n",
       "    .dataframe tbody tr th {\n",
       "        vertical-align: top;\n",
       "    }\n",
       "\n",
       "    .dataframe thead th {\n",
       "        text-align: right;\n",
       "    }\n",
       "</style>\n",
       "<table border=\"1\" class=\"dataframe\">\n",
       "  <thead>\n",
       "    <tr style=\"text-align: right;\">\n",
       "      <th></th>\n",
       "      <th>PassengerId</th>\n",
       "      <th>HomePlanet</th>\n",
       "      <th>CryoSleep</th>\n",
       "      <th>Destination</th>\n",
       "      <th>Age</th>\n",
       "      <th>VIP</th>\n",
       "      <th>RoomService</th>\n",
       "      <th>FoodCourt</th>\n",
       "      <th>ShoppingMall</th>\n",
       "      <th>Spa</th>\n",
       "      <th>VRDeck</th>\n",
       "      <th>Name</th>\n",
       "      <th>Transported</th>\n",
       "      <th>Deck</th>\n",
       "      <th>Num</th>\n",
       "      <th>Side</th>\n",
       "    </tr>\n",
       "  </thead>\n",
       "  <tbody>\n",
       "    <tr>\n",
       "      <th>0</th>\n",
       "      <td>0001_01</td>\n",
       "      <td>Europa</td>\n",
       "      <td>False</td>\n",
       "      <td>TRAPPIST-1e</td>\n",
       "      <td>39.0</td>\n",
       "      <td>False</td>\n",
       "      <td>0.0</td>\n",
       "      <td>0.0</td>\n",
       "      <td>0.0</td>\n",
       "      <td>0.0</td>\n",
       "      <td>0.0</td>\n",
       "      <td>Maham Ofracculy</td>\n",
       "      <td>False</td>\n",
       "      <td>B</td>\n",
       "      <td>0</td>\n",
       "      <td>P</td>\n",
       "    </tr>\n",
       "    <tr>\n",
       "      <th>1</th>\n",
       "      <td>0002_01</td>\n",
       "      <td>Earth</td>\n",
       "      <td>False</td>\n",
       "      <td>TRAPPIST-1e</td>\n",
       "      <td>24.0</td>\n",
       "      <td>False</td>\n",
       "      <td>109.0</td>\n",
       "      <td>9.0</td>\n",
       "      <td>25.0</td>\n",
       "      <td>549.0</td>\n",
       "      <td>44.0</td>\n",
       "      <td>Juanna Vines</td>\n",
       "      <td>True</td>\n",
       "      <td>F</td>\n",
       "      <td>0</td>\n",
       "      <td>S</td>\n",
       "    </tr>\n",
       "    <tr>\n",
       "      <th>2</th>\n",
       "      <td>0003_01</td>\n",
       "      <td>Europa</td>\n",
       "      <td>False</td>\n",
       "      <td>TRAPPIST-1e</td>\n",
       "      <td>58.0</td>\n",
       "      <td>True</td>\n",
       "      <td>43.0</td>\n",
       "      <td>3576.0</td>\n",
       "      <td>0.0</td>\n",
       "      <td>6715.0</td>\n",
       "      <td>49.0</td>\n",
       "      <td>Altark Susent</td>\n",
       "      <td>False</td>\n",
       "      <td>A</td>\n",
       "      <td>0</td>\n",
       "      <td>S</td>\n",
       "    </tr>\n",
       "    <tr>\n",
       "      <th>3</th>\n",
       "      <td>0003_02</td>\n",
       "      <td>Europa</td>\n",
       "      <td>False</td>\n",
       "      <td>TRAPPIST-1e</td>\n",
       "      <td>33.0</td>\n",
       "      <td>False</td>\n",
       "      <td>0.0</td>\n",
       "      <td>1283.0</td>\n",
       "      <td>371.0</td>\n",
       "      <td>3329.0</td>\n",
       "      <td>193.0</td>\n",
       "      <td>Solam Susent</td>\n",
       "      <td>False</td>\n",
       "      <td>A</td>\n",
       "      <td>0</td>\n",
       "      <td>S</td>\n",
       "    </tr>\n",
       "    <tr>\n",
       "      <th>4</th>\n",
       "      <td>0004_01</td>\n",
       "      <td>Earth</td>\n",
       "      <td>False</td>\n",
       "      <td>TRAPPIST-1e</td>\n",
       "      <td>16.0</td>\n",
       "      <td>False</td>\n",
       "      <td>303.0</td>\n",
       "      <td>70.0</td>\n",
       "      <td>151.0</td>\n",
       "      <td>565.0</td>\n",
       "      <td>2.0</td>\n",
       "      <td>Willy Santantines</td>\n",
       "      <td>True</td>\n",
       "      <td>F</td>\n",
       "      <td>1</td>\n",
       "      <td>S</td>\n",
       "    </tr>\n",
       "  </tbody>\n",
       "</table>\n",
       "</div>"
      ],
      "text/plain": [
       "  PassengerId HomePlanet CryoSleep  Destination   Age    VIP  RoomService  \\\n",
       "0     0001_01     Europa     False  TRAPPIST-1e  39.0  False          0.0   \n",
       "1     0002_01      Earth     False  TRAPPIST-1e  24.0  False        109.0   \n",
       "2     0003_01     Europa     False  TRAPPIST-1e  58.0   True         43.0   \n",
       "3     0003_02     Europa     False  TRAPPIST-1e  33.0  False          0.0   \n",
       "4     0004_01      Earth     False  TRAPPIST-1e  16.0  False        303.0   \n",
       "\n",
       "   FoodCourt  ShoppingMall     Spa  VRDeck               Name Transported  \\\n",
       "0        0.0           0.0     0.0     0.0    Maham Ofracculy       False   \n",
       "1        9.0          25.0   549.0    44.0       Juanna Vines        True   \n",
       "2     3576.0           0.0  6715.0    49.0      Altark Susent       False   \n",
       "3     1283.0         371.0  3329.0   193.0       Solam Susent       False   \n",
       "4       70.0         151.0   565.0     2.0  Willy Santantines        True   \n",
       "\n",
       "  Deck Num Side  \n",
       "0    B   0    P  \n",
       "1    F   0    S  \n",
       "2    A   0    S  \n",
       "3    A   0    S  \n",
       "4    F   1    S  "
      ]
     },
     "execution_count": 4,
     "metadata": {},
     "output_type": "execute_result"
    }
   ],
   "source": [
    "summary_df[['Deck', 'Num', 'Side']] = summary_df['Cabin'].str.split('/', expand=True)\n",
    "summary_df.drop(columns=['Cabin'], inplace=True)\n",
    "summary_df.head()"
   ]
  },
  {
   "cell_type": "code",
   "execution_count": 5,
   "id": "891cc0ef",
   "metadata": {
    "execution": {
     "iopub.execute_input": "2024-09-05T20:22:00.111160Z",
     "iopub.status.busy": "2024-09-05T20:22:00.110660Z",
     "iopub.status.idle": "2024-09-05T20:22:00.146393Z",
     "shell.execute_reply": "2024-09-05T20:22:00.145042Z"
    },
    "papermill": {
     "duration": 0.04777,
     "end_time": "2024-09-05T20:22:00.149286",
     "exception": false,
     "start_time": "2024-09-05T20:22:00.101516",
     "status": "completed"
    },
    "tags": []
   },
   "outputs": [
    {
     "name": "stderr",
     "output_type": "stream",
     "text": [
      "/tmp/ipykernel_17/435897593.py:2: FutureWarning: Downcasting object dtype arrays on .fillna, .ffill, .bfill is deprecated and will change in a future version. Call result.infer_objects(copy=False) instead. To opt-in to the future behavior, set `pd.set_option('future.no_silent_downcasting', True)`\n",
      "  summary_df.loc[cond, ['CryoSleep']] = summary_df.loc[cond, ['CryoSleep']].fillna(True)\n"
     ]
    },
    {
     "data": {
      "text/html": [
       "<div>\n",
       "<style scoped>\n",
       "    .dataframe tbody tr th:only-of-type {\n",
       "        vertical-align: middle;\n",
       "    }\n",
       "\n",
       "    .dataframe tbody tr th {\n",
       "        vertical-align: top;\n",
       "    }\n",
       "\n",
       "    .dataframe thead th {\n",
       "        text-align: right;\n",
       "    }\n",
       "</style>\n",
       "<table border=\"1\" class=\"dataframe\">\n",
       "  <thead>\n",
       "    <tr style=\"text-align: right;\">\n",
       "      <th></th>\n",
       "      <th>PassengerId</th>\n",
       "      <th>HomePlanet</th>\n",
       "      <th>CryoSleep</th>\n",
       "      <th>Destination</th>\n",
       "      <th>Age</th>\n",
       "      <th>VIP</th>\n",
       "      <th>RoomService</th>\n",
       "      <th>FoodCourt</th>\n",
       "      <th>ShoppingMall</th>\n",
       "      <th>Spa</th>\n",
       "      <th>VRDeck</th>\n",
       "      <th>Name</th>\n",
       "      <th>Transported</th>\n",
       "      <th>Deck</th>\n",
       "      <th>Num</th>\n",
       "      <th>Side</th>\n",
       "    </tr>\n",
       "  </thead>\n",
       "  <tbody>\n",
       "    <tr>\n",
       "      <th>0</th>\n",
       "      <td>0001_01</td>\n",
       "      <td>Europa</td>\n",
       "      <td>False</td>\n",
       "      <td>TRAPPIST-1e</td>\n",
       "      <td>39.0</td>\n",
       "      <td>False</td>\n",
       "      <td>0.0</td>\n",
       "      <td>0.0</td>\n",
       "      <td>0.0</td>\n",
       "      <td>0.0</td>\n",
       "      <td>0.0</td>\n",
       "      <td>Maham Ofracculy</td>\n",
       "      <td>False</td>\n",
       "      <td>B</td>\n",
       "      <td>0</td>\n",
       "      <td>P</td>\n",
       "    </tr>\n",
       "    <tr>\n",
       "      <th>1</th>\n",
       "      <td>0002_01</td>\n",
       "      <td>Earth</td>\n",
       "      <td>False</td>\n",
       "      <td>TRAPPIST-1e</td>\n",
       "      <td>24.0</td>\n",
       "      <td>False</td>\n",
       "      <td>109.0</td>\n",
       "      <td>9.0</td>\n",
       "      <td>25.0</td>\n",
       "      <td>549.0</td>\n",
       "      <td>44.0</td>\n",
       "      <td>Juanna Vines</td>\n",
       "      <td>True</td>\n",
       "      <td>F</td>\n",
       "      <td>0</td>\n",
       "      <td>S</td>\n",
       "    </tr>\n",
       "    <tr>\n",
       "      <th>2</th>\n",
       "      <td>0003_01</td>\n",
       "      <td>Europa</td>\n",
       "      <td>False</td>\n",
       "      <td>TRAPPIST-1e</td>\n",
       "      <td>58.0</td>\n",
       "      <td>True</td>\n",
       "      <td>43.0</td>\n",
       "      <td>3576.0</td>\n",
       "      <td>0.0</td>\n",
       "      <td>6715.0</td>\n",
       "      <td>49.0</td>\n",
       "      <td>Altark Susent</td>\n",
       "      <td>False</td>\n",
       "      <td>A</td>\n",
       "      <td>0</td>\n",
       "      <td>S</td>\n",
       "    </tr>\n",
       "    <tr>\n",
       "      <th>3</th>\n",
       "      <td>0003_02</td>\n",
       "      <td>Europa</td>\n",
       "      <td>False</td>\n",
       "      <td>TRAPPIST-1e</td>\n",
       "      <td>33.0</td>\n",
       "      <td>False</td>\n",
       "      <td>0.0</td>\n",
       "      <td>1283.0</td>\n",
       "      <td>371.0</td>\n",
       "      <td>3329.0</td>\n",
       "      <td>193.0</td>\n",
       "      <td>Solam Susent</td>\n",
       "      <td>False</td>\n",
       "      <td>A</td>\n",
       "      <td>0</td>\n",
       "      <td>S</td>\n",
       "    </tr>\n",
       "    <tr>\n",
       "      <th>4</th>\n",
       "      <td>0004_01</td>\n",
       "      <td>Earth</td>\n",
       "      <td>False</td>\n",
       "      <td>TRAPPIST-1e</td>\n",
       "      <td>16.0</td>\n",
       "      <td>False</td>\n",
       "      <td>303.0</td>\n",
       "      <td>70.0</td>\n",
       "      <td>151.0</td>\n",
       "      <td>565.0</td>\n",
       "      <td>2.0</td>\n",
       "      <td>Willy Santantines</td>\n",
       "      <td>True</td>\n",
       "      <td>F</td>\n",
       "      <td>1</td>\n",
       "      <td>S</td>\n",
       "    </tr>\n",
       "  </tbody>\n",
       "</table>\n",
       "</div>"
      ],
      "text/plain": [
       "  PassengerId HomePlanet CryoSleep  Destination   Age    VIP  RoomService  \\\n",
       "0     0001_01     Europa     False  TRAPPIST-1e  39.0  False          0.0   \n",
       "1     0002_01      Earth     False  TRAPPIST-1e  24.0  False        109.0   \n",
       "2     0003_01     Europa     False  TRAPPIST-1e  58.0   True         43.0   \n",
       "3     0003_02     Europa     False  TRAPPIST-1e  33.0  False          0.0   \n",
       "4     0004_01      Earth     False  TRAPPIST-1e  16.0  False        303.0   \n",
       "\n",
       "   FoodCourt  ShoppingMall     Spa  VRDeck               Name Transported  \\\n",
       "0        0.0           0.0     0.0     0.0    Maham Ofracculy       False   \n",
       "1        9.0          25.0   549.0    44.0       Juanna Vines        True   \n",
       "2     3576.0           0.0  6715.0    49.0      Altark Susent       False   \n",
       "3     1283.0         371.0  3329.0   193.0       Solam Susent       False   \n",
       "4       70.0         151.0   565.0     2.0  Willy Santantines        True   \n",
       "\n",
       "  Deck Num Side  \n",
       "0    B   0    P  \n",
       "1    F   0    S  \n",
       "2    A   0    S  \n",
       "3    A   0    S  \n",
       "4    F   1    S  "
      ]
     },
     "execution_count": 5,
     "metadata": {},
     "output_type": "execute_result"
    }
   ],
   "source": [
    "cond = (summary_df[money_columns].eq(0).all(axis=1))\n",
    "summary_df.loc[cond, ['CryoSleep']] = summary_df.loc[cond, ['CryoSleep']].fillna(True)\n",
    "summary_df.head()"
   ]
  },
  {
   "cell_type": "code",
   "execution_count": 6,
   "id": "a6d54361",
   "metadata": {
    "execution": {
     "iopub.execute_input": "2024-09-05T20:22:00.167630Z",
     "iopub.status.busy": "2024-09-05T20:22:00.167170Z",
     "iopub.status.idle": "2024-09-05T20:22:00.178679Z",
     "shell.execute_reply": "2024-09-05T20:22:00.177370Z"
    },
    "papermill": {
     "duration": 0.023869,
     "end_time": "2024-09-05T20:22:00.181529",
     "exception": false,
     "start_time": "2024-09-05T20:22:00.157660",
     "status": "completed"
    },
    "tags": []
   },
   "outputs": [
    {
     "name": "stderr",
     "output_type": "stream",
     "text": [
      "/tmp/ipykernel_17/83310333.py:1: FutureWarning: A value is trying to be set on a copy of a DataFrame or Series through chained assignment using an inplace method.\n",
      "The behavior will change in pandas 3.0. This inplace method will never work because the intermediate object on which we are setting values always behaves as a copy.\n",
      "\n",
      "For example, when doing 'df[col].method(value, inplace=True)', try using 'df.method({col: value}, inplace=True)' or df[col] = df[col].method(value) instead, to perform the operation inplace on the original object.\n",
      "\n",
      "\n",
      "  summary_df['CryoSleep'].fillna(False, inplace = True)\n",
      "/tmp/ipykernel_17/83310333.py:1: FutureWarning: Downcasting object dtype arrays on .fillna, .ffill, .bfill is deprecated and will change in a future version. Call result.infer_objects(copy=False) instead. To opt-in to the future behavior, set `pd.set_option('future.no_silent_downcasting', True)`\n",
      "  summary_df['CryoSleep'].fillna(False, inplace = True)\n"
     ]
    }
   ],
   "source": [
    "summary_df['CryoSleep'].fillna(False, inplace = True)"
   ]
  },
  {
   "cell_type": "code",
   "execution_count": 7,
   "id": "4a1f8998",
   "metadata": {
    "execution": {
     "iopub.execute_input": "2024-09-05T20:22:00.200133Z",
     "iopub.status.busy": "2024-09-05T20:22:00.199571Z",
     "iopub.status.idle": "2024-09-05T20:22:00.225238Z",
     "shell.execute_reply": "2024-09-05T20:22:00.223858Z"
    },
    "papermill": {
     "duration": 0.038061,
     "end_time": "2024-09-05T20:22:00.228103",
     "exception": false,
     "start_time": "2024-09-05T20:22:00.190042",
     "status": "completed"
    },
    "tags": []
   },
   "outputs": [
    {
     "data": {
      "text/plain": [
       "PassengerId        0\n",
       "HomePlanet       288\n",
       "CryoSleep          0\n",
       "Destination      274\n",
       "Age              270\n",
       "VIP              192\n",
       "RoomService      170\n",
       "FoodCourt        180\n",
       "ShoppingMall     175\n",
       "Spa              177\n",
       "VRDeck           177\n",
       "Name             294\n",
       "Transported     4277\n",
       "Deck             299\n",
       "Num              299\n",
       "Side             299\n",
       "dtype: int64"
      ]
     },
     "execution_count": 7,
     "metadata": {},
     "output_type": "execute_result"
    }
   ],
   "source": [
    "summary_df.isna().sum()"
   ]
  },
  {
   "cell_type": "code",
   "execution_count": 8,
   "id": "3b0d0225",
   "metadata": {
    "execution": {
     "iopub.execute_input": "2024-09-05T20:22:00.246737Z",
     "iopub.status.busy": "2024-09-05T20:22:00.246282Z",
     "iopub.status.idle": "2024-09-05T20:22:00.283816Z",
     "shell.execute_reply": "2024-09-05T20:22:00.282549Z"
    },
    "papermill": {
     "duration": 0.050469,
     "end_time": "2024-09-05T20:22:00.286973",
     "exception": false,
     "start_time": "2024-09-05T20:22:00.236504",
     "status": "completed"
    },
    "tags": []
   },
   "outputs": [
    {
     "data": {
      "text/plain": [
       "PassengerId        0\n",
       "HomePlanet       288\n",
       "CryoSleep          0\n",
       "Destination      274\n",
       "Age               11\n",
       "VIP              192\n",
       "RoomService      170\n",
       "FoodCourt        180\n",
       "ShoppingMall     175\n",
       "Spa              177\n",
       "VRDeck           177\n",
       "Name             294\n",
       "Transported     4277\n",
       "Deck             299\n",
       "Num              299\n",
       "Side             299\n",
       "dtype: int64"
      ]
     },
     "execution_count": 8,
     "metadata": {},
     "output_type": "execute_result"
    }
   ],
   "source": [
    "summary_df['Age'] = summary_df['Age'].fillna(summary_df.groupby(['HomePlanet', 'CryoSleep', 'VIP'])['Age'].transform('mean'))\n",
    "summary_df.isna().sum()"
   ]
  },
  {
   "cell_type": "code",
   "execution_count": 9,
   "id": "7c2c6612",
   "metadata": {
    "execution": {
     "iopub.execute_input": "2024-09-05T20:22:00.306792Z",
     "iopub.status.busy": "2024-09-05T20:22:00.306321Z",
     "iopub.status.idle": "2024-09-05T20:22:02.223769Z",
     "shell.execute_reply": "2024-09-05T20:22:02.222295Z"
    },
    "papermill": {
     "duration": 1.93125,
     "end_time": "2024-09-05T20:22:02.226693",
     "exception": false,
     "start_time": "2024-09-05T20:22:00.295443",
     "status": "completed"
    },
    "tags": []
   },
   "outputs": [],
   "source": [
    "from sklearn.pipeline import Pipeline\n",
    "from sklearn.preprocessing import StandardScaler, OneHotEncoder\n",
    "from sklearn.compose import ColumnTransformer\n",
    "from sklearn.impute import SimpleImputer\n",
    "\n",
    "numeric_features = ['Num', 'Age', 'RoomService', 'FoodCourt', 'ShoppingMall', 'Spa', 'VRDeck']\n",
    "categorical_features = ['HomePlanet', 'CryoSleep', 'Destination', 'VIP', 'Deck', 'Side']\n",
    "\n",
    "numeric_pipeline = Pipeline([('imputer', SimpleImputer(strategy='mean')),\n",
    "    ('scaler', StandardScaler())\n",
    "])\n",
    "\n",
    "categorical_pipeline = Pipeline([\n",
    "    ('inputer', SimpleImputer(strategy='most_frequent')),\n",
    "    ('encoder', OneHotEncoder(handle_unknown='ignore'))\n",
    "])\n",
    "\n",
    "preprocessor = ColumnTransformer([\n",
    "    ('numeric', numeric_pipeline, numeric_features),\n",
    "    ('categorical', categorical_pipeline, categorical_features)\n",
    "])"
   ]
  },
  {
   "cell_type": "code",
   "execution_count": 10,
   "id": "a4f92aa5",
   "metadata": {
    "execution": {
     "iopub.execute_input": "2024-09-05T20:22:02.245598Z",
     "iopub.status.busy": "2024-09-05T20:22:02.244908Z",
     "iopub.status.idle": "2024-09-05T20:22:02.252835Z",
     "shell.execute_reply": "2024-09-05T20:22:02.251634Z"
    },
    "papermill": {
     "duration": 0.020356,
     "end_time": "2024-09-05T20:22:02.255421",
     "exception": false,
     "start_time": "2024-09-05T20:22:02.235065",
     "status": "completed"
    },
    "tags": []
   },
   "outputs": [],
   "source": [
    "train_df_len = len(train_df)\n",
    "test_df_len = len(test_df)\n",
    "train_df = summary_df.iloc[:train_df_len]\n",
    "test_df = summary_df.iloc[train_df_len:train_df_len + test_df_len]"
   ]
  },
  {
   "cell_type": "code",
   "execution_count": 11,
   "id": "af6b1ef9",
   "metadata": {
    "execution": {
     "iopub.execute_input": "2024-09-05T20:22:02.274189Z",
     "iopub.status.busy": "2024-09-05T20:22:02.273717Z",
     "iopub.status.idle": "2024-09-05T20:22:02.287070Z",
     "shell.execute_reply": "2024-09-05T20:22:02.285837Z"
    },
    "papermill": {
     "duration": 0.026387,
     "end_time": "2024-09-05T20:22:02.290251",
     "exception": false,
     "start_time": "2024-09-05T20:22:02.263864",
     "status": "completed"
    },
    "tags": []
   },
   "outputs": [
    {
     "name": "stderr",
     "output_type": "stream",
     "text": [
      "/tmp/ipykernel_17/2788766537.py:3: SettingWithCopyWarning: \n",
      "A value is trying to be set on a copy of a slice from a DataFrame\n",
      "\n",
      "See the caveats in the documentation: https://pandas.pydata.org/pandas-docs/stable/user_guide/indexing.html#returning-a-view-versus-a-copy\n",
      "  train_df.drop(columns=['Transported'], inplace=True)\n",
      "/tmp/ipykernel_17/2788766537.py:4: SettingWithCopyWarning: \n",
      "A value is trying to be set on a copy of a slice from a DataFrame\n",
      "\n",
      "See the caveats in the documentation: https://pandas.pydata.org/pandas-docs/stable/user_guide/indexing.html#returning-a-view-versus-a-copy\n",
      "  test_df.drop(columns=['Transported'], inplace=True)\n"
     ]
    }
   ],
   "source": [
    "y = train_df['Transported']\n",
    "\n",
    "train_df.drop(columns=['Transported'], inplace=True)\n",
    "test_df.drop(columns=['Transported'], inplace=True)\n",
    "\n",
    "y = y.astype(bool)"
   ]
  },
  {
   "cell_type": "code",
   "execution_count": 12,
   "id": "9a6b84e3",
   "metadata": {
    "execution": {
     "iopub.execute_input": "2024-09-05T20:22:02.309294Z",
     "iopub.status.busy": "2024-09-05T20:22:02.308812Z",
     "iopub.status.idle": "2024-09-05T20:22:02.425144Z",
     "shell.execute_reply": "2024-09-05T20:22:02.423844Z"
    },
    "papermill": {
     "duration": 0.129311,
     "end_time": "2024-09-05T20:22:02.428097",
     "exception": false,
     "start_time": "2024-09-05T20:22:02.298786",
     "status": "completed"
    },
    "tags": []
   },
   "outputs": [],
   "source": [
    "transformed_data_train = preprocessor.fit_transform(train_df)\n",
    "transformed_data_test = preprocessor.transform(test_df)\n",
    "\n",
    "feature_names = preprocessor.named_transformers_['categorical'].named_steps['encoder'].get_feature_names_out(input_features=categorical_features) \n",
    "\n",
    "all_feature_names = numeric_features + list(feature_names)"
   ]
  },
  {
   "cell_type": "code",
   "execution_count": 13,
   "id": "5c5b933c",
   "metadata": {
    "execution": {
     "iopub.execute_input": "2024-09-05T20:22:02.446934Z",
     "iopub.status.busy": "2024-09-05T20:22:02.446466Z",
     "iopub.status.idle": "2024-09-05T20:22:02.453122Z",
     "shell.execute_reply": "2024-09-05T20:22:02.451842Z"
    },
    "papermill": {
     "duration": 0.019185,
     "end_time": "2024-09-05T20:22:02.455744",
     "exception": false,
     "start_time": "2024-09-05T20:22:02.436559",
     "status": "completed"
    },
    "tags": []
   },
   "outputs": [],
   "source": [
    "transformed_train_df = pd.DataFrame(transformed_data_train, columns = all_feature_names)\n",
    "transformed_test_df = pd.DataFrame(transformed_data_test, columns = all_feature_names)"
   ]
  },
  {
   "cell_type": "code",
   "execution_count": 14,
   "id": "53c7db81",
   "metadata": {
    "execution": {
     "iopub.execute_input": "2024-09-05T20:22:02.475529Z",
     "iopub.status.busy": "2024-09-05T20:22:02.474070Z",
     "iopub.status.idle": "2024-09-05T20:22:02.598714Z",
     "shell.execute_reply": "2024-09-05T20:22:02.597553Z"
    },
    "papermill": {
     "duration": 0.1374,
     "end_time": "2024-09-05T20:22:02.601566",
     "exception": false,
     "start_time": "2024-09-05T20:22:02.464166",
     "status": "completed"
    },
    "tags": []
   },
   "outputs": [],
   "source": [
    "from sklearn.ensemble import GradientBoostingClassifier, VotingClassifier\n",
    "from sklearn.model_selection import train_test_split\n",
    "from sklearn.metrics import accuracy_score\n",
    "\n",
    "\n",
    "\n",
    "gbm1 = GradientBoostingClassifier(n_estimators=200, learning_rate=0.05, max_features='sqrt', max_depth=4, random_state=42, \n",
    "                                        min_samples_split=10, min_samples_leaf=4, loss='exponential', subsample=0.8)\n",
    "\n",
    "gbm2 = GradientBoostingClassifier(n_estimators=200, learning_rate=0.05, max_features='log2', max_depth=4, random_state=42, \n",
    "                                        min_samples_split=10, min_samples_leaf=4, loss='log_loss', subsample=0.8)\n",
    "\n",
    "gbm3 = GradientBoostingClassifier(n_estimators=200, learning_rate=0.05, max_features='sqrt', max_depth=4, random_state=42, \n",
    "                                        min_samples_split=10, min_samples_leaf=4, loss='exponential', subsample=0.8)"
   ]
  },
  {
   "cell_type": "code",
   "execution_count": 15,
   "id": "8ec3b5e8",
   "metadata": {
    "execution": {
     "iopub.execute_input": "2024-09-05T20:22:02.620548Z",
     "iopub.status.busy": "2024-09-05T20:22:02.620062Z",
     "iopub.status.idle": "2024-09-05T20:22:02.632182Z",
     "shell.execute_reply": "2024-09-05T20:22:02.630993Z"
    },
    "papermill": {
     "duration": 0.024989,
     "end_time": "2024-09-05T20:22:02.635061",
     "exception": false,
     "start_time": "2024-09-05T20:22:02.610072",
     "status": "completed"
    },
    "tags": []
   },
   "outputs": [],
   "source": [
    "X_train, X_test, y_train, y_test = train_test_split(transformed_train_df, y, test_size=0.2, random_state=42)"
   ]
  },
  {
   "cell_type": "code",
   "execution_count": 16,
   "id": "1cc88103",
   "metadata": {
    "execution": {
     "iopub.execute_input": "2024-09-05T20:22:02.655241Z",
     "iopub.status.busy": "2024-09-05T20:22:02.653753Z",
     "iopub.status.idle": "2024-09-05T20:22:09.374066Z",
     "shell.execute_reply": "2024-09-05T20:22:09.372463Z"
    },
    "papermill": {
     "duration": 6.733003,
     "end_time": "2024-09-05T20:22:09.376763",
     "exception": false,
     "start_time": "2024-09-05T20:22:02.643760",
     "status": "completed"
    },
    "tags": []
   },
   "outputs": [
    {
     "name": "stdout",
     "output_type": "stream",
     "text": [
      "Accuracy исходной модели: 0.79700977573318\n"
     ]
    }
   ],
   "source": [
    "gbm1.fit(X_train, y_train)\n",
    "gbm2.fit(X_train, y_train)\n",
    "gbm3.fit(X_train, y_train)\n",
    "\n",
    "y_pred_1 = gbm1.predict(X_test)\n",
    "y_pred_2 = gbm2.predict(X_test)\n",
    "y_pred_3 = gbm3.predict(X_test)\n",
    "\n",
    "voting_clf = VotingClassifier(\n",
    "    estimators=[\n",
    "        ('gbm1', gbm1), \n",
    "        ('gbm2', gbm2), \n",
    "        ('gbm3', gbm3)\n",
    "    ], \n",
    "    voting='soft'\n",
    ")\n",
    "\n",
    "voting_clf.fit(X_train, y_train)\n",
    "\n",
    "y_pred_voting = voting_clf.predict(X_test)\n",
    "\n",
    "accuracy_voting = accuracy_score(y_test, y_pred_voting)\n",
    "print(\"Accuracy исходной модели:\", accuracy_voting)"
   ]
  },
  {
   "cell_type": "code",
   "execution_count": 17,
   "id": "7fa9e93c",
   "metadata": {
    "execution": {
     "iopub.execute_input": "2024-09-05T20:22:09.396081Z",
     "iopub.status.busy": "2024-09-05T20:22:09.395581Z",
     "iopub.status.idle": "2024-09-05T20:22:13.364631Z",
     "shell.execute_reply": "2024-09-05T20:22:13.363276Z"
    },
    "papermill": {
     "duration": 3.982648,
     "end_time": "2024-09-05T20:22:13.368020",
     "exception": false,
     "start_time": "2024-09-05T20:22:09.385372",
     "status": "completed"
    },
    "tags": []
   },
   "outputs": [],
   "source": [
    "\n",
    "y_pred_1 = gbm1.predict(transformed_test_df)\n",
    "y_pred_2 = gbm2.predict(transformed_test_df)\n",
    "y_pred_3 = gbm3.predict(transformed_test_df)\n",
    "\n",
    "\n",
    "voting_clf.fit(transformed_train_df,y)\n",
    "\n",
    "final_predictions = voting_clf.predict(transformed_test_df)\n"
   ]
  },
  {
   "cell_type": "code",
   "execution_count": 18,
   "id": "e83c95ca",
   "metadata": {
    "execution": {
     "iopub.execute_input": "2024-09-05T20:22:13.387495Z",
     "iopub.status.busy": "2024-09-05T20:22:13.386607Z",
     "iopub.status.idle": "2024-09-05T20:22:13.403965Z",
     "shell.execute_reply": "2024-09-05T20:22:13.402749Z"
    },
    "papermill": {
     "duration": 0.030523,
     "end_time": "2024-09-05T20:22:13.407200",
     "exception": false,
     "start_time": "2024-09-05T20:22:13.376677",
     "status": "completed"
    },
    "tags": []
   },
   "outputs": [],
   "source": [
    "\n",
    "final = pd.DataFrame({\n",
    "    'PassengerId': test_df['PassengerId'],  \n",
    "    'Transported': final_predictions\n",
    "})\n",
    "\n",
    "final.to_csv('submission.csv', index=False)"
   ]
  }
 ],
 "metadata": {
  "kaggle": {
   "accelerator": "none",
   "dataSources": [
    {
     "databundleVersionId": 3220602,
     "sourceId": 34377,
     "sourceType": "competition"
    }
   ],
   "dockerImageVersionId": 30761,
   "isGpuEnabled": false,
   "isInternetEnabled": false,
   "language": "python",
   "sourceType": "notebook"
  },
  "kernelspec": {
   "display_name": "Python 3",
   "language": "python",
   "name": "python3"
  },
  "language_info": {
   "codemirror_mode": {
    "name": "ipython",
    "version": 3
   },
   "file_extension": ".py",
   "mimetype": "text/x-python",
   "name": "python",
   "nbconvert_exporter": "python",
   "pygments_lexer": "ipython3",
   "version": "3.10.14"
  },
  "papermill": {
   "default_parameters": {},
   "duration": 18.983515,
   "end_time": "2024-09-05T20:22:14.138842",
   "environment_variables": {},
   "exception": null,
   "input_path": "__notebook__.ipynb",
   "output_path": "__notebook__.ipynb",
   "parameters": {},
   "start_time": "2024-09-05T20:21:55.155327",
   "version": "2.6.0"
  }
 },
 "nbformat": 4,
 "nbformat_minor": 5
}
